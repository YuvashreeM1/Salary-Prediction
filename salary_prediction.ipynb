{
  "nbformat": 4,
  "nbformat_minor": 5,
  "metadata": {
    "kernelspec": {
      "display_name": "Python 3",
      "language": "python",
      "name": "python3"
    },
    "language_info": {
      "codemirror_mode": {
        "name": "ipython",
        "version": 3
      },
      "file_extension": ".py",
      "mimetype": "text/x-python",
      "name": "python",
      "nbconvert_exporter": "python",
      "pygments_lexer": "ipython3",
      "version": "3.7.10"
    },
    "papermill": {
      "default_parameters": {},
      "duration": 20.827216,
      "end_time": "2021-09-01T16:55:00.471661",
      "environment_variables": {},
      "exception": null,
      "input_path": "__notebook__.ipynb",
      "output_path": "__notebook__.ipynb",
      "parameters": {},
      "start_time": "2021-09-01T16:54:39.644445",
      "version": "2.3.3"
    },
    "colab": {
      "name": "salary-prediction.ipynb",
      "provenance": []
    }
  },
  "cells": [
    {
      "cell_type": "markdown",
      "metadata": {
        "id": "97d90dde",
        "papermill": {
          "duration": 0.035325,
          "end_time": "2021-09-01T16:54:47.800290",
          "exception": false,
          "start_time": "2021-09-01T16:54:47.764965",
          "status": "completed"
        },
        "tags": []
      },
      "source": [
        "**Salary prediction**\n"
      ],
      "id": "97d90dde"
    },
    {
      "cell_type": "code",
      "metadata": {
        "execution": {
          "iopub.execute_input": "2021-09-01T16:54:47.885836Z",
          "iopub.status.busy": "2021-09-01T16:54:47.884830Z",
          "iopub.status.idle": "2021-09-01T16:54:48.913100Z",
          "shell.execute_reply": "2021-09-01T16:54:48.913930Z",
          "shell.execute_reply.started": "2021-09-01T16:53:34.735785Z"
        },
        "id": "80e8a1eb",
        "papermill": {
          "duration": 1.077785,
          "end_time": "2021-09-01T16:54:48.914358",
          "exception": false,
          "start_time": "2021-09-01T16:54:47.836573",
          "status": "completed"
        },
        "tags": [],
        "colab": {
          "resources": {
            "http://localhost:8080/nbextensions/google.colab/files.js": {
              "data": "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",
              "ok": true,
              "headers": [
                [
                  "content-type",
                  "application/javascript"
                ]
              ],
              "status": 200,
              "status_text": ""
            }
          },
          "base_uri": "https://localhost:8080/",
          "height": 73
        },
        "outputId": "2b40e0c0-fb35-4629-c9df-91b079cf1b48"
      },
      "source": [
        "#import the libraries\n",
        "import pandas as pd\n",
        "import numpy as np\n",
        "import matplotlib.pyplot as plt\n",
        "import seaborn as sns\n",
        "from google.colab import files\n",
        "uploaded = files.upload()"
      ],
      "id": "80e8a1eb",
      "execution_count": 1,
      "outputs": [
        {
          "output_type": "display_data",
          "data": {
            "text/html": [
              "\n",
              "     <input type=\"file\" id=\"files-f3228a28-478d-4acf-a9e0-13210ccf35be\" name=\"files[]\" multiple disabled\n",
              "        style=\"border:none\" />\n",
              "     <output id=\"result-f3228a28-478d-4acf-a9e0-13210ccf35be\">\n",
              "      Upload widget is only available when the cell has been executed in the\n",
              "      current browser session. Please rerun this cell to enable.\n",
              "      </output>\n",
              "      <script src=\"/nbextensions/google.colab/files.js\"></script> "
            ],
            "text/plain": [
              "<IPython.core.display.HTML object>"
            ]
          },
          "metadata": {}
        },
        {
          "output_type": "stream",
          "name": "stdout",
          "text": [
            "Saving salary_predict_dataset.csv to salary_predict_dataset.csv\n"
          ]
        }
      ]
    },
    {
      "cell_type": "code",
      "metadata": {
        "execution": {
          "iopub.execute_input": "2021-09-01T16:54:48.998300Z",
          "iopub.status.busy": "2021-09-01T16:54:48.997661Z",
          "iopub.status.idle": "2021-09-01T16:54:49.013946Z",
          "shell.execute_reply": "2021-09-01T16:54:49.013434Z",
          "shell.execute_reply.started": "2021-09-01T16:53:34.774326Z"
        },
        "id": "8aec8600",
        "papermill": {
          "duration": 0.060922,
          "end_time": "2021-09-01T16:54:49.014144",
          "exception": false,
          "start_time": "2021-09-01T16:54:48.953222",
          "status": "completed"
        },
        "tags": []
      },
      "source": [
        "import io\n",
        "data= pd.read_csv(io.BytesIO(uploaded['salary_predict_dataset.csv']))"
      ],
      "id": "8aec8600",
      "execution_count": 2,
      "outputs": []
    },
    {
      "cell_type": "code",
      "metadata": {
        "execution": {
          "iopub.execute_input": "2021-09-01T16:54:49.096276Z",
          "iopub.status.busy": "2021-09-01T16:54:49.095601Z",
          "iopub.status.idle": "2021-09-01T16:54:49.115395Z",
          "shell.execute_reply": "2021-09-01T16:54:49.115926Z",
          "shell.execute_reply.started": "2021-09-01T16:53:34.799045Z"
        },
        "id": "09d599b4",
        "papermill": {
          "duration": 0.067313,
          "end_time": "2021-09-01T16:54:49.116110",
          "exception": false,
          "start_time": "2021-09-01T16:54:49.048797",
          "status": "completed"
        },
        "tags": [],
        "colab": {
          "base_uri": "https://localhost:8080/",
          "height": 206
        },
        "outputId": "d4c3d50d-71bb-45e4-e378-4439d477a189"
      },
      "source": [
        "data.head()"
      ],
      "id": "09d599b4",
      "execution_count": 3,
      "outputs": [
        {
          "output_type": "execute_result",
          "data": {
            "text/html": [
              "<div>\n",
              "<style scoped>\n",
              "    .dataframe tbody tr th:only-of-type {\n",
              "        vertical-align: middle;\n",
              "    }\n",
              "\n",
              "    .dataframe tbody tr th {\n",
              "        vertical-align: top;\n",
              "    }\n",
              "\n",
              "    .dataframe thead th {\n",
              "        text-align: right;\n",
              "    }\n",
              "</style>\n",
              "<table border=\"1\" class=\"dataframe\">\n",
              "  <thead>\n",
              "    <tr style=\"text-align: right;\">\n",
              "      <th></th>\n",
              "      <th>experience</th>\n",
              "      <th>test_score</th>\n",
              "      <th>interview_score</th>\n",
              "      <th>Salary</th>\n",
              "    </tr>\n",
              "  </thead>\n",
              "  <tbody>\n",
              "    <tr>\n",
              "      <th>0</th>\n",
              "      <td>NaN</td>\n",
              "      <td>8.0</td>\n",
              "      <td>8.0</td>\n",
              "      <td>50000</td>\n",
              "    </tr>\n",
              "    <tr>\n",
              "      <th>1</th>\n",
              "      <td>NaN</td>\n",
              "      <td>5.0</td>\n",
              "      <td>4.0</td>\n",
              "      <td>22000</td>\n",
              "    </tr>\n",
              "    <tr>\n",
              "      <th>2</th>\n",
              "      <td>three</td>\n",
              "      <td>6.0</td>\n",
              "      <td>5.0</td>\n",
              "      <td>30000</td>\n",
              "    </tr>\n",
              "    <tr>\n",
              "      <th>3</th>\n",
              "      <td>five</td>\n",
              "      <td>9.0</td>\n",
              "      <td>9.0</td>\n",
              "      <td>55000</td>\n",
              "    </tr>\n",
              "    <tr>\n",
              "      <th>4</th>\n",
              "      <td>six</td>\n",
              "      <td>3.0</td>\n",
              "      <td>5.0</td>\n",
              "      <td>13000</td>\n",
              "    </tr>\n",
              "  </tbody>\n",
              "</table>\n",
              "</div>"
            ],
            "text/plain": [
              "  experience  test_score  interview_score  Salary\n",
              "0        NaN         8.0              8.0   50000\n",
              "1        NaN         5.0              4.0   22000\n",
              "2      three         6.0              5.0   30000\n",
              "3       five         9.0              9.0   55000\n",
              "4        six         3.0              5.0   13000"
            ]
          },
          "metadata": {},
          "execution_count": 3
        }
      ]
    },
    {
      "cell_type": "code",
      "metadata": {
        "execution": {
          "iopub.execute_input": "2021-09-01T16:54:49.190335Z",
          "iopub.status.busy": "2021-09-01T16:54:49.189688Z",
          "iopub.status.idle": "2021-09-01T16:54:49.212598Z",
          "shell.execute_reply": "2021-09-01T16:54:49.213082Z",
          "shell.execute_reply.started": "2021-09-01T16:53:34.827934Z"
        },
        "id": "c4b81016",
        "papermill": {
          "duration": 0.061486,
          "end_time": "2021-09-01T16:54:49.213265",
          "exception": false,
          "start_time": "2021-09-01T16:54:49.151779",
          "status": "completed"
        },
        "tags": [],
        "colab": {
          "base_uri": "https://localhost:8080/"
        },
        "outputId": "8f7214ec-bfe7-48f1-96fb-6b3c6937b107"
      },
      "source": [
        "data.info()"
      ],
      "id": "c4b81016",
      "execution_count": 4,
      "outputs": [
        {
          "output_type": "stream",
          "name": "stdout",
          "text": [
            "<class 'pandas.core.frame.DataFrame'>\n",
            "RangeIndex: 20 entries, 0 to 19\n",
            "Data columns (total 4 columns):\n",
            " #   Column           Non-Null Count  Dtype  \n",
            "---  ------           --------------  -----  \n",
            " 0   experience       15 non-null     object \n",
            " 1   test_score       19 non-null     float64\n",
            " 2   interview_score  19 non-null     float64\n",
            " 3   Salary           20 non-null     int64  \n",
            "dtypes: float64(2), int64(1), object(1)\n",
            "memory usage: 768.0+ bytes\n"
          ]
        }
      ]
    },
    {
      "cell_type": "code",
      "metadata": {
        "execution": {
          "iopub.execute_input": "2021-09-01T16:54:49.293751Z",
          "iopub.status.busy": "2021-09-01T16:54:49.293120Z",
          "iopub.status.idle": "2021-09-01T16:54:49.311925Z",
          "shell.execute_reply": "2021-09-01T16:54:49.312422Z",
          "shell.execute_reply.started": "2021-09-01T16:53:34.857000Z"
        },
        "id": "0158d96b",
        "papermill": {
          "duration": 0.06394,
          "end_time": "2021-09-01T16:54:49.312612",
          "exception": false,
          "start_time": "2021-09-01T16:54:49.248672",
          "status": "completed"
        },
        "tags": [],
        "colab": {
          "base_uri": "https://localhost:8080/",
          "height": 300
        },
        "outputId": "b0c533b2-d74d-455d-e5aa-2782a48555ed"
      },
      "source": [
        "data.describe()"
      ],
      "id": "0158d96b",
      "execution_count": 5,
      "outputs": [
        {
          "output_type": "execute_result",
          "data": {
            "text/html": [
              "<div>\n",
              "<style scoped>\n",
              "    .dataframe tbody tr th:only-of-type {\n",
              "        vertical-align: middle;\n",
              "    }\n",
              "\n",
              "    .dataframe tbody tr th {\n",
              "        vertical-align: top;\n",
              "    }\n",
              "\n",
              "    .dataframe thead th {\n",
              "        text-align: right;\n",
              "    }\n",
              "</style>\n",
              "<table border=\"1\" class=\"dataframe\">\n",
              "  <thead>\n",
              "    <tr style=\"text-align: right;\">\n",
              "      <th></th>\n",
              "      <th>test_score</th>\n",
              "      <th>interview_score</th>\n",
              "      <th>Salary</th>\n",
              "    </tr>\n",
              "  </thead>\n",
              "  <tbody>\n",
              "    <tr>\n",
              "      <th>count</th>\n",
              "      <td>19.000000</td>\n",
              "      <td>19.000000</td>\n",
              "      <td>20.000000</td>\n",
              "    </tr>\n",
              "    <tr>\n",
              "      <th>mean</th>\n",
              "      <td>5.447368</td>\n",
              "      <td>5.657895</td>\n",
              "      <td>30350.000000</td>\n",
              "    </tr>\n",
              "    <tr>\n",
              "      <th>std</th>\n",
              "      <td>2.832817</td>\n",
              "      <td>2.516902</td>\n",
              "      <td>19780.439567</td>\n",
              "    </tr>\n",
              "    <tr>\n",
              "      <th>min</th>\n",
              "      <td>1.000000</td>\n",
              "      <td>1.000000</td>\n",
              "      <td>500.000000</td>\n",
              "    </tr>\n",
              "    <tr>\n",
              "      <th>25%</th>\n",
              "      <td>3.000000</td>\n",
              "      <td>4.500000</td>\n",
              "      <td>12750.000000</td>\n",
              "    </tr>\n",
              "    <tr>\n",
              "      <th>50%</th>\n",
              "      <td>5.000000</td>\n",
              "      <td>6.000000</td>\n",
              "      <td>27500.000000</td>\n",
              "    </tr>\n",
              "    <tr>\n",
              "      <th>75%</th>\n",
              "      <td>8.000000</td>\n",
              "      <td>7.750000</td>\n",
              "      <td>48500.000000</td>\n",
              "    </tr>\n",
              "    <tr>\n",
              "      <th>max</th>\n",
              "      <td>9.000000</td>\n",
              "      <td>9.000000</td>\n",
              "      <td>60000.000000</td>\n",
              "    </tr>\n",
              "  </tbody>\n",
              "</table>\n",
              "</div>"
            ],
            "text/plain": [
              "       test_score  interview_score        Salary\n",
              "count   19.000000        19.000000     20.000000\n",
              "mean     5.447368         5.657895  30350.000000\n",
              "std      2.832817         2.516902  19780.439567\n",
              "min      1.000000         1.000000    500.000000\n",
              "25%      3.000000         4.500000  12750.000000\n",
              "50%      5.000000         6.000000  27500.000000\n",
              "75%      8.000000         7.750000  48500.000000\n",
              "max      9.000000         9.000000  60000.000000"
            ]
          },
          "metadata": {},
          "execution_count": 5
        }
      ]
    },
    {
      "cell_type": "code",
      "metadata": {
        "execution": {
          "iopub.execute_input": "2021-09-01T16:54:49.388467Z",
          "iopub.status.busy": "2021-09-01T16:54:49.387503Z",
          "iopub.status.idle": "2021-09-01T16:54:49.395483Z",
          "shell.execute_reply": "2021-09-01T16:54:49.395934Z",
          "shell.execute_reply.started": "2021-09-01T16:53:34.891154Z"
        },
        "id": "dba19a61",
        "papermill": {
          "duration": 0.047413,
          "end_time": "2021-09-01T16:54:49.396127",
          "exception": false,
          "start_time": "2021-09-01T16:54:49.348714",
          "status": "completed"
        },
        "tags": [],
        "colab": {
          "base_uri": "https://localhost:8080/"
        },
        "outputId": "37086fcc-a289-46a6-d678-f1ea1c83b2b6"
      },
      "source": [
        "#let us check the no of nan values\n",
        "data.isnull().sum()"
      ],
      "id": "dba19a61",
      "execution_count": 6,
      "outputs": [
        {
          "output_type": "execute_result",
          "data": {
            "text/plain": [
              "experience         5\n",
              "test_score         1\n",
              "interview_score    1\n",
              "Salary             0\n",
              "dtype: int64"
            ]
          },
          "metadata": {},
          "execution_count": 6
        }
      ]
    },
    {
      "cell_type": "markdown",
      "metadata": {
        "id": "dcf0dff6",
        "papermill": {
          "duration": 0.037132,
          "end_time": "2021-09-01T16:54:49.469420",
          "exception": false,
          "start_time": "2021-09-01T16:54:49.432288",
          "status": "completed"
        },
        "tags": []
      },
      "source": [
        "Since there are only few nan values we just replace them with 0."
      ],
      "id": "dcf0dff6"
    },
    {
      "cell_type": "code",
      "metadata": {
        "execution": {
          "iopub.execute_input": "2021-09-01T16:54:49.550679Z",
          "iopub.status.busy": "2021-09-01T16:54:49.549669Z",
          "iopub.status.idle": "2021-09-01T16:54:49.555485Z",
          "shell.execute_reply": "2021-09-01T16:54:49.555962Z",
          "shell.execute_reply.started": "2021-09-01T16:53:34.902691Z"
        },
        "id": "1ca51556",
        "papermill": {
          "duration": 0.049933,
          "end_time": "2021-09-01T16:54:49.556168",
          "exception": false,
          "start_time": "2021-09-01T16:54:49.506235",
          "status": "completed"
        },
        "tags": []
      },
      "source": [
        "data['test_score']=data['test_score'].fillna(0)\n",
        "data['interview_score']=data['interview_score'].fillna(0)"
      ],
      "id": "1ca51556",
      "execution_count": 7,
      "outputs": []
    },
    {
      "cell_type": "code",
      "metadata": {
        "execution": {
          "iopub.execute_input": "2021-09-01T16:54:49.644572Z",
          "iopub.status.busy": "2021-09-01T16:54:49.643642Z",
          "iopub.status.idle": "2021-09-01T16:54:49.648180Z",
          "shell.execute_reply": "2021-09-01T16:54:49.647529Z",
          "shell.execute_reply.started": "2021-09-01T16:53:34.919274Z"
        },
        "id": "8d708858",
        "papermill": {
          "duration": 0.054801,
          "end_time": "2021-09-01T16:54:49.648319",
          "exception": false,
          "start_time": "2021-09-01T16:54:49.593518",
          "status": "completed"
        },
        "tags": [],
        "colab": {
          "base_uri": "https://localhost:8080/",
          "height": 206
        },
        "outputId": "3dd92034-523b-45f7-d642-bc29a8d086af"
      },
      "source": [
        "data.head()\n"
      ],
      "id": "8d708858",
      "execution_count": 8,
      "outputs": [
        {
          "output_type": "execute_result",
          "data": {
            "text/html": [
              "<div>\n",
              "<style scoped>\n",
              "    .dataframe tbody tr th:only-of-type {\n",
              "        vertical-align: middle;\n",
              "    }\n",
              "\n",
              "    .dataframe tbody tr th {\n",
              "        vertical-align: top;\n",
              "    }\n",
              "\n",
              "    .dataframe thead th {\n",
              "        text-align: right;\n",
              "    }\n",
              "</style>\n",
              "<table border=\"1\" class=\"dataframe\">\n",
              "  <thead>\n",
              "    <tr style=\"text-align: right;\">\n",
              "      <th></th>\n",
              "      <th>experience</th>\n",
              "      <th>test_score</th>\n",
              "      <th>interview_score</th>\n",
              "      <th>Salary</th>\n",
              "    </tr>\n",
              "  </thead>\n",
              "  <tbody>\n",
              "    <tr>\n",
              "      <th>0</th>\n",
              "      <td>NaN</td>\n",
              "      <td>8.0</td>\n",
              "      <td>8.0</td>\n",
              "      <td>50000</td>\n",
              "    </tr>\n",
              "    <tr>\n",
              "      <th>1</th>\n",
              "      <td>NaN</td>\n",
              "      <td>5.0</td>\n",
              "      <td>4.0</td>\n",
              "      <td>22000</td>\n",
              "    </tr>\n",
              "    <tr>\n",
              "      <th>2</th>\n",
              "      <td>three</td>\n",
              "      <td>6.0</td>\n",
              "      <td>5.0</td>\n",
              "      <td>30000</td>\n",
              "    </tr>\n",
              "    <tr>\n",
              "      <th>3</th>\n",
              "      <td>five</td>\n",
              "      <td>9.0</td>\n",
              "      <td>9.0</td>\n",
              "      <td>55000</td>\n",
              "    </tr>\n",
              "    <tr>\n",
              "      <th>4</th>\n",
              "      <td>six</td>\n",
              "      <td>3.0</td>\n",
              "      <td>5.0</td>\n",
              "      <td>13000</td>\n",
              "    </tr>\n",
              "  </tbody>\n",
              "</table>\n",
              "</div>"
            ],
            "text/plain": [
              "  experience  test_score  interview_score  Salary\n",
              "0        NaN         8.0              8.0   50000\n",
              "1        NaN         5.0              4.0   22000\n",
              "2      three         6.0              5.0   30000\n",
              "3       five         9.0              9.0   55000\n",
              "4        six         3.0              5.0   13000"
            ]
          },
          "metadata": {},
          "execution_count": 8
        }
      ]
    },
    {
      "cell_type": "code",
      "metadata": {
        "execution": {
          "iopub.execute_input": "2021-09-01T16:54:49.725567Z",
          "iopub.status.busy": "2021-09-01T16:54:49.724602Z",
          "iopub.status.idle": "2021-09-01T16:54:49.732417Z",
          "shell.execute_reply": "2021-09-01T16:54:49.732858Z",
          "shell.execute_reply.started": "2021-09-01T16:53:34.943975Z"
        },
        "id": "96e45131",
        "papermill": {
          "duration": 0.047843,
          "end_time": "2021-09-01T16:54:49.733056",
          "exception": false,
          "start_time": "2021-09-01T16:54:49.685213",
          "status": "completed"
        },
        "tags": [],
        "colab": {
          "base_uri": "https://localhost:8080/"
        },
        "outputId": "c422ca7a-4979-4e46-8a77-eaca5407fd76"
      },
      "source": [
        "data['experience'].value_counts()"
      ],
      "id": "96e45131",
      "execution_count": 9,
      "outputs": [
        {
          "output_type": "execute_result",
          "data": {
            "text/plain": [
              "six         2\n",
              "five        2\n",
              "one         2\n",
              "ten         2\n",
              "three       2\n",
              "thirteen    1\n",
              "twelve      1\n",
              "four        1\n",
              "fifteen     1\n",
              "eleven      1\n",
              "Name: experience, dtype: int64"
            ]
          },
          "metadata": {},
          "execution_count": 9
        }
      ]
    },
    {
      "cell_type": "code",
      "metadata": {
        "execution": {
          "iopub.execute_input": "2021-09-01T16:54:49.811312Z",
          "iopub.status.busy": "2021-09-01T16:54:49.810290Z",
          "iopub.status.idle": "2021-09-01T16:54:49.815567Z",
          "shell.execute_reply": "2021-09-01T16:54:49.816058Z",
          "shell.execute_reply.started": "2021-09-01T16:53:34.969054Z"
        },
        "id": "92e01593",
        "papermill": {
          "duration": 0.046206,
          "end_time": "2021-09-01T16:54:49.816343",
          "exception": false,
          "start_time": "2021-09-01T16:54:49.770137",
          "status": "completed"
        },
        "tags": []
      },
      "source": [
        "ordinal_values={'one':1,'two':2,'three':3,'four':4,'five':5,'six':6,'seven':7,'eight':8,'nine':9,'ten':10,'eleven':11,'twelve':12,'thirteen':13,'fifteen':15}     \n"
      ],
      "id": "92e01593",
      "execution_count": 10,
      "outputs": []
    },
    {
      "cell_type": "code",
      "metadata": {
        "execution": {
          "iopub.execute_input": "2021-09-01T16:54:49.895780Z",
          "iopub.status.busy": "2021-09-01T16:54:49.894673Z",
          "iopub.status.idle": "2021-09-01T16:54:49.901793Z",
          "shell.execute_reply": "2021-09-01T16:54:49.902383Z",
          "shell.execute_reply.started": "2021-09-01T16:53:34.993898Z"
        },
        "id": "0e89877c",
        "papermill": {
          "duration": 0.049255,
          "end_time": "2021-09-01T16:54:49.902577",
          "exception": false,
          "start_time": "2021-09-01T16:54:49.853322",
          "status": "completed"
        },
        "tags": []
      },
      "source": [
        "data['experience']=data['experience'].map(ordinal_values)"
      ],
      "id": "0e89877c",
      "execution_count": 11,
      "outputs": []
    },
    {
      "cell_type": "code",
      "metadata": {
        "execution": {
          "iopub.execute_input": "2021-09-01T16:54:49.999936Z",
          "iopub.status.busy": "2021-09-01T16:54:49.999232Z",
          "iopub.status.idle": "2021-09-01T16:54:50.012184Z",
          "shell.execute_reply": "2021-09-01T16:54:50.011608Z",
          "shell.execute_reply.started": "2021-09-01T16:53:35.014110Z"
        },
        "id": "0a507cee",
        "papermill": {
          "duration": 0.066971,
          "end_time": "2021-09-01T16:54:50.012324",
          "exception": false,
          "start_time": "2021-09-01T16:54:49.945353",
          "status": "completed"
        },
        "tags": [],
        "colab": {
          "base_uri": "https://localhost:8080/",
          "height": 206
        },
        "outputId": "98fc899a-f65f-443b-b84e-11e8f4e9a0c1"
      },
      "source": [
        "data.head()"
      ],
      "id": "0a507cee",
      "execution_count": 12,
      "outputs": [
        {
          "output_type": "execute_result",
          "data": {
            "text/html": [
              "<div>\n",
              "<style scoped>\n",
              "    .dataframe tbody tr th:only-of-type {\n",
              "        vertical-align: middle;\n",
              "    }\n",
              "\n",
              "    .dataframe tbody tr th {\n",
              "        vertical-align: top;\n",
              "    }\n",
              "\n",
              "    .dataframe thead th {\n",
              "        text-align: right;\n",
              "    }\n",
              "</style>\n",
              "<table border=\"1\" class=\"dataframe\">\n",
              "  <thead>\n",
              "    <tr style=\"text-align: right;\">\n",
              "      <th></th>\n",
              "      <th>experience</th>\n",
              "      <th>test_score</th>\n",
              "      <th>interview_score</th>\n",
              "      <th>Salary</th>\n",
              "    </tr>\n",
              "  </thead>\n",
              "  <tbody>\n",
              "    <tr>\n",
              "      <th>0</th>\n",
              "      <td>NaN</td>\n",
              "      <td>8.0</td>\n",
              "      <td>8.0</td>\n",
              "      <td>50000</td>\n",
              "    </tr>\n",
              "    <tr>\n",
              "      <th>1</th>\n",
              "      <td>NaN</td>\n",
              "      <td>5.0</td>\n",
              "      <td>4.0</td>\n",
              "      <td>22000</td>\n",
              "    </tr>\n",
              "    <tr>\n",
              "      <th>2</th>\n",
              "      <td>3.0</td>\n",
              "      <td>6.0</td>\n",
              "      <td>5.0</td>\n",
              "      <td>30000</td>\n",
              "    </tr>\n",
              "    <tr>\n",
              "      <th>3</th>\n",
              "      <td>5.0</td>\n",
              "      <td>9.0</td>\n",
              "      <td>9.0</td>\n",
              "      <td>55000</td>\n",
              "    </tr>\n",
              "    <tr>\n",
              "      <th>4</th>\n",
              "      <td>6.0</td>\n",
              "      <td>3.0</td>\n",
              "      <td>5.0</td>\n",
              "      <td>13000</td>\n",
              "    </tr>\n",
              "  </tbody>\n",
              "</table>\n",
              "</div>"
            ],
            "text/plain": [
              "   experience  test_score  interview_score  Salary\n",
              "0         NaN         8.0              8.0   50000\n",
              "1         NaN         5.0              4.0   22000\n",
              "2         3.0         6.0              5.0   30000\n",
              "3         5.0         9.0              9.0   55000\n",
              "4         6.0         3.0              5.0   13000"
            ]
          },
          "metadata": {},
          "execution_count": 12
        }
      ]
    },
    {
      "cell_type": "code",
      "metadata": {
        "execution": {
          "iopub.execute_input": "2021-09-01T16:54:50.091105Z",
          "iopub.status.busy": "2021-09-01T16:54:50.090479Z",
          "iopub.status.idle": "2021-09-01T16:54:50.095476Z",
          "shell.execute_reply": "2021-09-01T16:54:50.094947Z",
          "shell.execute_reply.started": "2021-09-01T16:53:35.033880Z"
        },
        "id": "25eb5dc5",
        "papermill": {
          "duration": 0.045239,
          "end_time": "2021-09-01T16:54:50.095628",
          "exception": false,
          "start_time": "2021-09-01T16:54:50.050389",
          "status": "completed"
        },
        "tags": []
      },
      "source": [
        "data['experience']=data['experience'].fillna(0)"
      ],
      "id": "25eb5dc5",
      "execution_count": 13,
      "outputs": []
    },
    {
      "cell_type": "code",
      "metadata": {
        "execution": {
          "iopub.execute_input": "2021-09-01T16:54:50.183490Z",
          "iopub.status.busy": "2021-09-01T16:54:50.182513Z",
          "iopub.status.idle": "2021-09-01T16:54:50.186869Z",
          "shell.execute_reply": "2021-09-01T16:54:50.186338Z",
          "shell.execute_reply.started": "2021-09-01T16:53:35.049306Z"
        },
        "id": "fada6a43",
        "papermill": {
          "duration": 0.053876,
          "end_time": "2021-09-01T16:54:50.187026",
          "exception": false,
          "start_time": "2021-09-01T16:54:50.133150",
          "status": "completed"
        },
        "tags": [],
        "colab": {
          "base_uri": "https://localhost:8080/",
          "height": 206
        },
        "outputId": "bb90c9d7-c7cd-4705-e17d-303e008e8b4a"
      },
      "source": [
        "data.head()"
      ],
      "id": "fada6a43",
      "execution_count": 14,
      "outputs": [
        {
          "output_type": "execute_result",
          "data": {
            "text/html": [
              "<div>\n",
              "<style scoped>\n",
              "    .dataframe tbody tr th:only-of-type {\n",
              "        vertical-align: middle;\n",
              "    }\n",
              "\n",
              "    .dataframe tbody tr th {\n",
              "        vertical-align: top;\n",
              "    }\n",
              "\n",
              "    .dataframe thead th {\n",
              "        text-align: right;\n",
              "    }\n",
              "</style>\n",
              "<table border=\"1\" class=\"dataframe\">\n",
              "  <thead>\n",
              "    <tr style=\"text-align: right;\">\n",
              "      <th></th>\n",
              "      <th>experience</th>\n",
              "      <th>test_score</th>\n",
              "      <th>interview_score</th>\n",
              "      <th>Salary</th>\n",
              "    </tr>\n",
              "  </thead>\n",
              "  <tbody>\n",
              "    <tr>\n",
              "      <th>0</th>\n",
              "      <td>0.0</td>\n",
              "      <td>8.0</td>\n",
              "      <td>8.0</td>\n",
              "      <td>50000</td>\n",
              "    </tr>\n",
              "    <tr>\n",
              "      <th>1</th>\n",
              "      <td>0.0</td>\n",
              "      <td>5.0</td>\n",
              "      <td>4.0</td>\n",
              "      <td>22000</td>\n",
              "    </tr>\n",
              "    <tr>\n",
              "      <th>2</th>\n",
              "      <td>3.0</td>\n",
              "      <td>6.0</td>\n",
              "      <td>5.0</td>\n",
              "      <td>30000</td>\n",
              "    </tr>\n",
              "    <tr>\n",
              "      <th>3</th>\n",
              "      <td>5.0</td>\n",
              "      <td>9.0</td>\n",
              "      <td>9.0</td>\n",
              "      <td>55000</td>\n",
              "    </tr>\n",
              "    <tr>\n",
              "      <th>4</th>\n",
              "      <td>6.0</td>\n",
              "      <td>3.0</td>\n",
              "      <td>5.0</td>\n",
              "      <td>13000</td>\n",
              "    </tr>\n",
              "  </tbody>\n",
              "</table>\n",
              "</div>"
            ],
            "text/plain": [
              "   experience  test_score  interview_score  Salary\n",
              "0         0.0         8.0              8.0   50000\n",
              "1         0.0         5.0              4.0   22000\n",
              "2         3.0         6.0              5.0   30000\n",
              "3         5.0         9.0              9.0   55000\n",
              "4         6.0         3.0              5.0   13000"
            ]
          },
          "metadata": {},
          "execution_count": 14
        }
      ]
    },
    {
      "cell_type": "code",
      "metadata": {
        "execution": {
          "iopub.execute_input": "2021-09-01T16:54:50.273963Z",
          "iopub.status.busy": "2021-09-01T16:54:50.273300Z",
          "iopub.status.idle": "2021-09-01T16:54:50.706334Z",
          "shell.execute_reply": "2021-09-01T16:54:50.705686Z",
          "shell.execute_reply.started": "2021-09-01T16:53:35.069331Z"
        },
        "id": "d95c206b",
        "papermill": {
          "duration": 0.480803,
          "end_time": "2021-09-01T16:54:50.706484",
          "exception": false,
          "start_time": "2021-09-01T16:54:50.225681",
          "status": "completed"
        },
        "tags": [],
        "colab": {
          "base_uri": "https://localhost:8080/",
          "height": 296
        },
        "outputId": "c078435d-a73f-4368-eb09-a4e5a677fb76"
      },
      "source": [
        "sns.barplot(x=data['experience'],y=data['test_score'])"
      ],
      "id": "d95c206b",
      "execution_count": 15,
      "outputs": [
        {
          "output_type": "execute_result",
          "data": {
            "text/plain": [
              "<matplotlib.axes._subplots.AxesSubplot at 0x7fbb7c1d0690>"
            ]
          },
          "metadata": {},
          "execution_count": 15
        },
        {
          "output_type": "display_data",
          "data": {
            "image/png": "[encoded data removed]",
            "text/plain": [
              "<Figure size 432x288 with 1 Axes>"
            ]
          },
          "metadata": {
            "needs_background": "light"
          }
        }
      ]
    },
    {
      "cell_type": "code",
      "metadata": {
        "execution": {
          "iopub.execute_input": "2021-09-01T16:54:50.795152Z",
          "iopub.status.busy": "2021-09-01T16:54:50.794152Z",
          "iopub.status.idle": "2021-09-01T16:54:51.189312Z",
          "shell.execute_reply": "2021-09-01T16:54:51.188652Z",
          "shell.execute_reply.started": "2021-09-01T16:53:35.460730Z"
        },
        "id": "37a41209",
        "papermill": {
          "duration": 0.44333,
          "end_time": "2021-09-01T16:54:51.189449",
          "exception": false,
          "start_time": "2021-09-01T16:54:50.746119",
          "status": "completed"
        },
        "tags": [],
        "colab": {
          "base_uri": "https://localhost:8080/",
          "height": 296
        },
        "outputId": "d1bfb3bf-ae84-4828-fa7a-1b718ad3cdce"
      },
      "source": [
        "sns.barplot(x=data['experience'],y=data['interview_score'])"
      ],
      "id": "37a41209",
      "execution_count": 16,
      "outputs": [
        {
          "output_type": "execute_result",
          "data": {
            "text/plain": [
              "<matplotlib.axes._subplots.AxesSubplot at 0x7fbb7c101210>"
            ]
          },
          "metadata": {},
          "execution_count": 16
        },
        {
          "output_type": "display_data",
          "data": {
            "image/png": "[encoded data removed]",
            "text/plain": [
              "<Figure size 432x288 with 1 Axes>"
            ]
          },
          "metadata": {
            "needs_background": "light"
          }
        }
      ]
    },
    {
      "cell_type": "markdown",
      "metadata": {
        "id": "1d13e71b",
        "papermill": {
          "duration": 0.039547,
          "end_time": "2021-09-01T16:54:51.269234",
          "exception": false,
          "start_time": "2021-09-01T16:54:51.229687",
          "status": "completed"
        },
        "tags": []
      },
      "source": [
        "From this graph we can see that the most experienced persons have performed well in both the tests."
      ],
      "id": "1d13e71b"
    },
    {
      "cell_type": "code",
      "metadata": {
        "execution": {
          "iopub.execute_input": "2021-09-01T16:54:51.426506Z",
          "iopub.status.busy": "2021-09-01T16:54:51.376276Z",
          "iopub.status.idle": "2021-09-01T16:54:51.875195Z",
          "shell.execute_reply": "2021-09-01T16:54:51.874640Z",
          "shell.execute_reply.started": "2021-09-01T16:53:35.824837Z"
        },
        "id": "deca73ba",
        "papermill": {
          "duration": 0.56615,
          "end_time": "2021-09-01T16:54:51.875330",
          "exception": false,
          "start_time": "2021-09-01T16:54:51.309180",
          "status": "completed"
        },
        "tags": [],
        "colab": {
          "base_uri": "https://localhost:8080/",
          "height": 458
        },
        "outputId": "ccaad499-7297-4273-9e42-1a734b6f8e26"
      },
      "source": [
        "sns.jointplot(x=data['test_score'],y=data['interview_score'])"
      ],
      "id": "deca73ba",
      "execution_count": 17,
      "outputs": [
        {
          "output_type": "execute_result",
          "data": {
            "text/plain": [
              "<seaborn.axisgrid.JointGrid at 0x7fbb7bbd6d50>"
            ]
          },
          "metadata": {},
          "execution_count": 17
        },
        {
          "output_type": "display_data",
          "data": {
            "image/png": "[encoded data removed]",
            "text/plain": [
              "<Figure size 432x432 with 3 Axes>"
            ]
          },
          "metadata": {
            "needs_background": "light"
          }
        }
      ]
    },
    {
      "cell_type": "markdown",
      "metadata": {
        "id": "5dedc694",
        "papermill": {
          "duration": 0.040657,
          "end_time": "2021-09-01T16:54:51.957695",
          "exception": false,
          "start_time": "2021-09-01T16:54:51.917038",
          "status": "completed"
        },
        "tags": []
      },
      "source": [
        "In this we could infer that the persons who have scored well in test_score have also scored better in interview_score."
      ],
      "id": "5dedc694"
    },
    {
      "cell_type": "code",
      "metadata": {
        "execution": {
          "iopub.execute_input": "2021-09-01T16:54:52.079739Z",
          "iopub.status.busy": "2021-09-01T16:54:52.079053Z",
          "iopub.status.idle": "2021-09-01T16:54:52.465635Z",
          "shell.execute_reply": "2021-09-01T16:54:52.464750Z",
          "shell.execute_reply.started": "2021-09-01T16:53:36.309775Z"
        },
        "id": "cb7b79bb",
        "papermill": {
          "duration": 0.467179,
          "end_time": "2021-09-01T16:54:52.465840",
          "exception": false,
          "start_time": "2021-09-01T16:54:51.998661",
          "status": "completed"
        },
        "tags": [],
        "colab": {
          "base_uri": "https://localhost:8080/",
          "height": 296
        },
        "outputId": "add43b15-b047-42f7-abc5-b93866595f66"
      },
      "source": [
        "sns.lineplot(x=data['experience'],y=data['Salary'])"
      ],
      "id": "cb7b79bb",
      "execution_count": 18,
      "outputs": [
        {
          "output_type": "execute_result",
          "data": {
            "text/plain": [
              "<matplotlib.axes._subplots.AxesSubplot at 0x7fbb7bbd65d0>"
            ]
          },
          "metadata": {},
          "execution_count": 18
        },
        {
          "output_type": "display_data",
          "data": {
            "image/png": "[encoded data removed]",
            "text/plain": [
              "<Figure size 432x288 with 1 Axes>"
            ]
          },
          "metadata": {
            "needs_background": "light"
          }
        }
      ]
    },
    {
      "cell_type": "markdown",
      "metadata": {
        "id": "913647dd",
        "papermill": {
          "duration": 0.042202,
          "end_time": "2021-09-01T16:54:52.559144",
          "exception": false,
          "start_time": "2021-09-01T16:54:52.516942",
          "status": "completed"
        },
        "tags": []
      },
      "source": [
        "From this we can see as experience increases...Salary also increases..."
      ],
      "id": "913647dd"
    },
    {
      "cell_type": "code",
      "metadata": {
        "execution": {
          "iopub.execute_input": "2021-09-01T16:54:52.660284Z",
          "iopub.status.busy": "2021-09-01T16:54:52.655787Z",
          "iopub.status.idle": "2021-09-01T16:54:56.110052Z",
          "shell.execute_reply": "2021-09-01T16:54:56.109182Z",
          "shell.execute_reply.started": "2021-09-01T16:53:36.669005Z"
        },
        "id": "546ed8ca",
        "papermill": {
          "duration": 3.508773,
          "end_time": "2021-09-01T16:54:56.110200",
          "exception": false,
          "start_time": "2021-09-01T16:54:52.601427",
          "status": "completed"
        },
        "tags": [],
        "colab": {
          "base_uri": "https://localhost:8080/",
          "height": 743
        },
        "outputId": "0214fbff-3781-4142-cbf4-c84cb7ff244e"
      },
      "source": [
        "sns.pairplot(data)"
      ],
      "id": "546ed8ca",
      "execution_count": 19,
      "outputs": [
        {
          "output_type": "execute_result",
          "data": {
            "text/plain": [
              "<seaborn.axisgrid.PairGrid at 0x7fbb72800b50>"
            ]
          },
          "metadata": {},
          "execution_count": 19
        },
        {
          "output_type": "display_data",
          "data": {
            "image/png": "[encoded data removed]",
            "text/plain": [
              "<Figure size 720x720 with 20 Axes>"
            ]
          },
          "metadata": {
            "needs_background": "light"
          }
        }
      ]
    },
    {
      "cell_type": "code",
      "metadata": {
        "execution": {
          "iopub.execute_input": "2021-09-01T16:54:56.212272Z",
          "iopub.status.busy": "2021-09-01T16:54:56.211498Z",
          "iopub.status.idle": "2021-09-01T16:54:56.214739Z",
          "shell.execute_reply": "2021-09-01T16:54:56.214200Z",
          "shell.execute_reply.started": "2021-09-01T16:53:39.733754Z"
        },
        "id": "aafdfed5",
        "papermill": {
          "duration": 0.055779,
          "end_time": "2021-09-01T16:54:56.214874",
          "exception": false,
          "start_time": "2021-09-01T16:54:56.159095",
          "status": "completed"
        },
        "tags": []
      },
      "source": [
        "X=data.drop(columns=['Salary'],axis=1)\n",
        "y=data['Salary']"
      ],
      "id": "aafdfed5",
      "execution_count": 20,
      "outputs": []
    },
    {
      "cell_type": "code",
      "metadata": {
        "execution": {
          "iopub.execute_input": "2021-09-01T16:54:56.311631Z",
          "iopub.status.busy": "2021-09-01T16:54:56.310787Z",
          "iopub.status.idle": "2021-09-01T16:54:56.498603Z",
          "shell.execute_reply": "2021-09-01T16:54:56.498038Z",
          "shell.execute_reply.started": "2021-09-01T16:53:39.740431Z"
        },
        "id": "3f6b4fed",
        "papermill": {
          "duration": 0.238323,
          "end_time": "2021-09-01T16:54:56.498751",
          "exception": false,
          "start_time": "2021-09-01T16:54:56.260428",
          "status": "completed"
        },
        "tags": []
      },
      "source": [
        "from sklearn.model_selection import train_test_split"
      ],
      "id": "3f6b4fed",
      "execution_count": 21,
      "outputs": []
    },
    {
      "cell_type": "code",
      "metadata": {
        "execution": {
          "iopub.execute_input": "2021-09-01T16:54:56.596171Z",
          "iopub.status.busy": "2021-09-01T16:54:56.595509Z",
          "iopub.status.idle": "2021-09-01T16:54:56.598419Z",
          "shell.execute_reply": "2021-09-01T16:54:56.597871Z",
          "shell.execute_reply.started": "2021-09-01T16:53:39.910411Z"
        },
        "id": "fe6ac5fa",
        "papermill": {
          "duration": 0.055181,
          "end_time": "2021-09-01T16:54:56.598569",
          "exception": false,
          "start_time": "2021-09-01T16:54:56.543388",
          "status": "completed"
        },
        "tags": []
      },
      "source": [
        "X_train,X_test,y_train,y_test=train_test_split(X,y,test_size=0.2,random_state=102)"
      ],
      "id": "fe6ac5fa",
      "execution_count": 22,
      "outputs": []
    },
    {
      "cell_type": "markdown",
      "metadata": {
        "id": "01a5f233",
        "papermill": {
          "duration": 0.044012,
          "end_time": "2021-09-01T16:54:56.687141",
          "exception": false,
          "start_time": "2021-09-01T16:54:56.643129",
          "status": "completed"
        },
        "tags": []
      },
      "source": [
        "**Linear Regression**\n"
      ],
      "id": "01a5f233"
    },
    {
      "cell_type": "code",
      "metadata": {
        "execution": {
          "iopub.execute_input": "2021-09-01T16:54:56.780528Z",
          "iopub.status.busy": "2021-09-01T16:54:56.779877Z",
          "iopub.status.idle": "2021-09-01T16:54:56.867108Z",
          "shell.execute_reply": "2021-09-01T16:54:56.866565Z",
          "shell.execute_reply.started": "2021-09-01T16:53:39.919405Z"
        },
        "id": "577f17d7",
        "papermill": {
          "duration": 0.135995,
          "end_time": "2021-09-01T16:54:56.867261",
          "exception": false,
          "start_time": "2021-09-01T16:54:56.731266",
          "status": "completed"
        },
        "tags": []
      },
      "source": [
        "from sklearn.linear_model  import LinearRegression"
      ],
      "id": "577f17d7",
      "execution_count": 23,
      "outputs": []
    },
    {
      "cell_type": "code",
      "metadata": {
        "execution": {
          "iopub.execute_input": "2021-09-01T16:54:56.960710Z",
          "iopub.status.busy": "2021-09-01T16:54:56.960055Z",
          "iopub.status.idle": "2021-09-01T16:54:56.963420Z",
          "shell.execute_reply": "2021-09-01T16:54:56.962884Z",
          "shell.execute_reply.started": "2021-09-01T16:53:40.001983Z"
        },
        "id": "e643881f",
        "papermill": {
          "duration": 0.05186,
          "end_time": "2021-09-01T16:54:56.963568",
          "exception": false,
          "start_time": "2021-09-01T16:54:56.911708",
          "status": "completed"
        },
        "tags": []
      },
      "source": [
        "lr=LinearRegression()"
      ],
      "id": "e643881f",
      "execution_count": 24,
      "outputs": []
    },
    {
      "cell_type": "code",
      "metadata": {
        "execution": {
          "iopub.execute_input": "2021-09-01T16:54:57.243130Z",
          "iopub.status.busy": "2021-09-01T16:54:57.242390Z",
          "iopub.status.idle": "2021-09-01T16:54:57.246066Z",
          "shell.execute_reply": "2021-09-01T16:54:57.245529Z",
          "shell.execute_reply.started": "2021-09-01T16:53:40.007065Z"
        },
        "id": "a9f7f4c5",
        "papermill": {
          "duration": 0.235962,
          "end_time": "2021-09-01T16:54:57.246216",
          "exception": false,
          "start_time": "2021-09-01T16:54:57.010254",
          "status": "completed"
        },
        "tags": []
      },
      "source": [
        "model=lr.fit(X_train,y_train)"
      ],
      "id": "a9f7f4c5",
      "execution_count": 25,
      "outputs": []
    },
    {
      "cell_type": "code",
      "metadata": {
        "execution": {
          "iopub.execute_input": "2021-09-01T16:54:57.343669Z",
          "iopub.status.busy": "2021-09-01T16:54:57.342978Z",
          "iopub.status.idle": "2021-09-01T16:54:57.346182Z",
          "shell.execute_reply": "2021-09-01T16:54:57.345603Z",
          "shell.execute_reply.started": "2021-09-01T16:53:40.170145Z"
        },
        "id": "39b59530",
        "papermill": {
          "duration": 0.054899,
          "end_time": "2021-09-01T16:54:57.346320",
          "exception": false,
          "start_time": "2021-09-01T16:54:57.291421",
          "status": "completed"
        },
        "tags": []
      },
      "source": [
        "pred=model.predict(X_test)"
      ],
      "id": "39b59530",
      "execution_count": 26,
      "outputs": []
    },
    {
      "cell_type": "code",
      "metadata": {
        "execution": {
          "iopub.execute_input": "2021-09-01T16:54:57.445430Z",
          "iopub.status.busy": "2021-09-01T16:54:57.444750Z",
          "iopub.status.idle": "2021-09-01T16:54:57.447942Z",
          "shell.execute_reply": "2021-09-01T16:54:57.447450Z",
          "shell.execute_reply.started": "2021-09-01T16:53:40.177873Z"
        },
        "id": "1f84a253",
        "papermill": {
          "duration": 0.054503,
          "end_time": "2021-09-01T16:54:57.448102",
          "exception": false,
          "start_time": "2021-09-01T16:54:57.393599",
          "status": "completed"
        },
        "tags": []
      },
      "source": [
        "from sklearn.metrics import mean_absolute_error,mean_squared_error,r2_score"
      ],
      "id": "1f84a253",
      "execution_count": 27,
      "outputs": []
    },
    {
      "cell_type": "code",
      "metadata": {
        "execution": {
          "iopub.execute_input": "2021-09-01T16:54:57.549320Z",
          "iopub.status.busy": "2021-09-01T16:54:57.548321Z",
          "iopub.status.idle": "2021-09-01T16:54:57.553402Z",
          "shell.execute_reply": "2021-09-01T16:54:57.552811Z",
          "shell.execute_reply.started": "2021-09-01T16:53:40.184558Z"
        },
        "id": "1d8cbc9e",
        "papermill": {
          "duration": 0.05892,
          "end_time": "2021-09-01T16:54:57.553568",
          "exception": false,
          "start_time": "2021-09-01T16:54:57.494648",
          "status": "completed"
        },
        "tags": [],
        "colab": {
          "base_uri": "https://localhost:8080/"
        },
        "outputId": "35ab2f12-4292-47ad-a94b-d3316a5e601b"
      },
      "source": [
        "print('Mean absolute error: ',mean_absolute_error(y_test,pred))\n",
        "print('Mean squarred error: ',mean_squared_error(y_test,pred))\n",
        "print(' Root mean squarred error: ',np.sqrt(mean_squared_error(y_test,pred)))\n",
        "print('R2 Score: ',r2_score(y_test,pred))"
      ],
      "id": "1d8cbc9e",
      "execution_count": 28,
      "outputs": [
        {
          "output_type": "stream",
          "name": "stdout",
          "text": [
            "Mean absolute error:  4211.645949907349\n",
            "Mean squarred error:  32755469.092638977\n",
            " Root mean squarred error:  5723.239388024843\n",
            "R2 Score:  0.26392204286204546\n"
          ]
        }
      ]
    },
    {
      "cell_type": "markdown",
      "metadata": {
        "id": "3a7435ef",
        "papermill": {
          "duration": 0.045614,
          "end_time": "2021-09-01T16:54:57.647717",
          "exception": false,
          "start_time": "2021-09-01T16:54:57.602103",
          "status": "completed"
        },
        "tags": []
      },
      "source": [
        "**SVM**\n"
      ],
      "id": "3a7435ef"
    },
    {
      "cell_type": "code",
      "metadata": {
        "execution": {
          "iopub.execute_input": "2021-09-01T16:54:57.743575Z",
          "iopub.status.busy": "2021-09-01T16:54:57.742914Z",
          "iopub.status.idle": "2021-09-01T16:54:57.745920Z",
          "shell.execute_reply": "2021-09-01T16:54:57.745288Z",
          "shell.execute_reply.started": "2021-09-01T16:53:40.200168Z"
        },
        "id": "d422acfb",
        "papermill": {
          "duration": 0.052755,
          "end_time": "2021-09-01T16:54:57.746074",
          "exception": false,
          "start_time": "2021-09-01T16:54:57.693319",
          "status": "completed"
        },
        "tags": []
      },
      "source": [
        "from sklearn.svm import LinearSVR"
      ],
      "id": "d422acfb",
      "execution_count": 29,
      "outputs": []
    },
    {
      "cell_type": "code",
      "metadata": {
        "execution": {
          "iopub.execute_input": "2021-09-01T16:54:57.840684Z",
          "iopub.status.busy": "2021-09-01T16:54:57.839967Z",
          "iopub.status.idle": "2021-09-01T16:54:57.843527Z",
          "shell.execute_reply": "2021-09-01T16:54:57.844083Z",
          "shell.execute_reply.started": "2021-09-01T16:53:40.207593Z"
        },
        "id": "da0b3813",
        "papermill": {
          "duration": 0.053027,
          "end_time": "2021-09-01T16:54:57.844258",
          "exception": false,
          "start_time": "2021-09-01T16:54:57.791231",
          "status": "completed"
        },
        "tags": []
      },
      "source": [
        "svr=LinearSVR(epsilon=1.5)"
      ],
      "id": "da0b3813",
      "execution_count": 30,
      "outputs": []
    },
    {
      "cell_type": "code",
      "metadata": {
        "execution": {
          "iopub.execute_input": "2021-09-01T16:54:57.942061Z",
          "iopub.status.busy": "2021-09-01T16:54:57.941411Z",
          "iopub.status.idle": "2021-09-01T16:54:57.947549Z",
          "shell.execute_reply": "2021-09-01T16:54:57.948090Z",
          "shell.execute_reply.started": "2021-09-01T16:53:40.219026Z"
        },
        "id": "8e5e70d7",
        "papermill": {
          "duration": 0.05735,
          "end_time": "2021-09-01T16:54:57.948283",
          "exception": false,
          "start_time": "2021-09-01T16:54:57.890933",
          "status": "completed"
        },
        "tags": []
      },
      "source": [
        "model_2=svr.fit(X_train,y_train)"
      ],
      "id": "8e5e70d7",
      "execution_count": 33,
      "outputs": []
    },
    {
      "cell_type": "code",
      "metadata": {
        "execution": {
          "iopub.execute_input": "2021-09-01T16:54:58.042956Z",
          "iopub.status.busy": "2021-09-01T16:54:58.042275Z",
          "iopub.status.idle": "2021-09-01T16:54:58.047883Z",
          "shell.execute_reply": "2021-09-01T16:54:58.048468Z",
          "shell.execute_reply.started": "2021-09-01T16:53:40.231482Z"
        },
        "id": "a9e0b00c",
        "papermill": {
          "duration": 0.054292,
          "end_time": "2021-09-01T16:54:58.048659",
          "exception": false,
          "start_time": "2021-09-01T16:54:57.994367",
          "status": "completed"
        },
        "tags": []
      },
      "source": [
        "pred_2=model_2.predict(X_test)"
      ],
      "id": "a9e0b00c",
      "execution_count": 34,
      "outputs": []
    },
    {
      "cell_type": "code",
      "metadata": {
        "execution": {
          "iopub.execute_input": "2021-09-01T16:54:58.146354Z",
          "iopub.status.busy": "2021-09-01T16:54:58.145565Z",
          "iopub.status.idle": "2021-09-01T16:54:58.150885Z",
          "shell.execute_reply": "2021-09-01T16:54:58.150317Z",
          "shell.execute_reply.started": "2021-09-01T16:53:40.247966Z"
        },
        "id": "8c77c098",
        "papermill": {
          "duration": 0.057092,
          "end_time": "2021-09-01T16:54:58.151063",
          "exception": false,
          "start_time": "2021-09-01T16:54:58.093971",
          "status": "completed"
        },
        "tags": [],
        "colab": {
          "base_uri": "https://localhost:8080/"
        },
        "outputId": "9c944a15-4bc0-4cd8-a2d9-2c5f4093100e"
      },
      "source": [
        "print('Mean absolute error: ',mean_absolute_error(y_test,pred_2))\n",
        "print('Mean squarred error: ',mean_squared_error(y_test,pred_2))\n",
        "print(' Root mean squarred error: ',np.sqrt(mean_squared_error(y_test,pred_2)))"
      ],
      "id": "8c77c098",
      "execution_count": 35,
      "outputs": [
        {
          "output_type": "stream",
          "name": "stdout",
          "text": [
            "Mean absolute error:  16298.875\n",
            "Mean squarred error:  307388835.1875\n",
            " Root mean squarred error:  17532.507954867724\n"
          ]
        }
      ]
    },
    {
      "cell_type": "markdown",
      "metadata": {
        "id": "53f7c820",
        "papermill": {
          "duration": 0.045857,
          "end_time": "2021-09-01T16:54:58.242494",
          "exception": false,
          "start_time": "2021-09-01T16:54:58.196637",
          "status": "completed"
        },
        "tags": []
      },
      "source": [
        "**SGD**\n"
      ],
      "id": "53f7c820"
    },
    {
      "cell_type": "code",
      "metadata": {
        "execution": {
          "iopub.execute_input": "2021-09-01T16:54:58.339450Z",
          "iopub.status.busy": "2021-09-01T16:54:58.338393Z",
          "iopub.status.idle": "2021-09-01T16:54:58.341494Z",
          "shell.execute_reply": "2021-09-01T16:54:58.340930Z",
          "shell.execute_reply.started": "2021-09-01T16:53:40.261548Z"
        },
        "id": "ac2d4a1b",
        "papermill": {
          "duration": 0.053033,
          "end_time": "2021-09-01T16:54:58.341630",
          "exception": false,
          "start_time": "2021-09-01T16:54:58.288597",
          "status": "completed"
        },
        "tags": []
      },
      "source": [
        "from sklearn.linear_model import SGDRegressor"
      ],
      "id": "ac2d4a1b",
      "execution_count": 36,
      "outputs": []
    },
    {
      "cell_type": "code",
      "metadata": {
        "execution": {
          "iopub.execute_input": "2021-09-01T16:54:58.441516Z",
          "iopub.status.busy": "2021-09-01T16:54:58.440468Z",
          "iopub.status.idle": "2021-09-01T16:54:58.443618Z",
          "shell.execute_reply": "2021-09-01T16:54:58.443083Z",
          "shell.execute_reply.started": "2021-09-01T16:53:40.271082Z"
        },
        "id": "ff07b41b",
        "papermill": {
          "duration": 0.055652,
          "end_time": "2021-09-01T16:54:58.443763",
          "exception": false,
          "start_time": "2021-09-01T16:54:58.388111",
          "status": "completed"
        },
        "tags": []
      },
      "source": [
        "sgd_regressor=SGDRegressor(max_iter=1000,eta0=0.1)"
      ],
      "id": "ff07b41b",
      "execution_count": 37,
      "outputs": []
    },
    {
      "cell_type": "code",
      "metadata": {
        "execution": {
          "iopub.execute_input": "2021-09-01T16:54:58.548541Z",
          "iopub.status.busy": "2021-09-01T16:54:58.547831Z",
          "iopub.status.idle": "2021-09-01T16:54:58.550494Z",
          "shell.execute_reply": "2021-09-01T16:54:58.550965Z",
          "shell.execute_reply.started": "2021-09-01T16:53:40.281488Z"
        },
        "id": "b5b7d596",
        "papermill": {
          "duration": 0.060753,
          "end_time": "2021-09-01T16:54:58.551176",
          "exception": false,
          "start_time": "2021-09-01T16:54:58.490423",
          "status": "completed"
        },
        "tags": []
      },
      "source": [
        "model_1=sgd_regressor.fit(X_train,y_train)"
      ],
      "id": "b5b7d596",
      "execution_count": 38,
      "outputs": []
    },
    {
      "cell_type": "code",
      "metadata": {
        "execution": {
          "iopub.execute_input": "2021-09-01T16:54:58.649060Z",
          "iopub.status.busy": "2021-09-01T16:54:58.648350Z",
          "iopub.status.idle": "2021-09-01T16:54:58.654248Z",
          "shell.execute_reply": "2021-09-01T16:54:58.654774Z",
          "shell.execute_reply.started": "2021-09-01T16:53:40.301885Z"
        },
        "id": "257baeb2",
        "papermill": {
          "duration": 0.05774,
          "end_time": "2021-09-01T16:54:58.654946",
          "exception": false,
          "start_time": "2021-09-01T16:54:58.597206",
          "status": "completed"
        },
        "tags": []
      },
      "source": [
        "pred_1=model_1.predict(X_test)"
      ],
      "id": "257baeb2",
      "execution_count": 39,
      "outputs": []
    },
    {
      "cell_type": "code",
      "metadata": {
        "execution": {
          "iopub.execute_input": "2021-09-01T16:54:58.751446Z",
          "iopub.status.busy": "2021-09-01T16:54:58.750733Z",
          "iopub.status.idle": "2021-09-01T16:54:58.758411Z",
          "shell.execute_reply": "2021-09-01T16:54:58.758919Z",
          "shell.execute_reply.started": "2021-09-01T16:53:40.311193Z"
        },
        "id": "a60f1a21",
        "papermill": {
          "duration": 0.056812,
          "end_time": "2021-09-01T16:54:58.759128",
          "exception": false,
          "start_time": "2021-09-01T16:54:58.702316",
          "status": "completed"
        },
        "tags": [],
        "colab": {
          "base_uri": "https://localhost:8080/"
        },
        "outputId": "927e22cd-d367-4274-c016-cb0cf3ee60cc"
      },
      "source": [
        "print('Mean absolute error: ',mean_absolute_error(y_test,pred_1))\n",
        "print('Mean squarred error: ',mean_squared_error(y_test,pred_1))\n",
        "print(' Root mean squarred error: ',np.sqrt(mean_squared_error(y_test,pred_1)))\n"
      ],
      "id": "a60f1a21",
      "execution_count": 40,
      "outputs": [
        {
          "output_type": "stream",
          "name": "stdout",
          "text": [
            "Mean absolute error:  1883975054364.916\n",
            "Mean squarred error:  3.955968786125019e+24\n",
            " Root mean squarred error:  1988961735711.63\n"
          ]
        }
      ]
    }
  ]
}